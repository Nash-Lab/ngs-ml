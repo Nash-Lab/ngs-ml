{
 "cells": [
  {
   "cell_type": "code",
   "execution_count": null,
   "id": "chicken-provincial",
   "metadata": {},
   "outputs": [],
   "source": [
    "import pandas as pd\n",
    "import numpy as np\n",
    "\n",
    "bc_column = 'barcode'\n",
    "aa_column  = 'aa_mutation'\n",
    "n_aa_column = 'n_aa_substitutions'\n",
    "\n",
    "look_up_table = 'rib_lut.csv'\n",
    "out_file = 'p_rib_lut.csv'"
   ]
  },
  {
   "cell_type": "code",
   "execution_count": null,
   "id": "flexible-genetics",
   "metadata": {},
   "outputs": [],
   "source": [
    "lut = pd.read_csv(look_up_table, header=None, names=[bc_column, aa_column,n_aa_column])\n",
    "lut = lut.assign(pos=lambda x: x['aa_mutation'].str.findall(r'[0-9]+') )\n",
    "\n",
    "lut['pos'] = lut['pos'].fillna(-1)\n",
    "\n",
    "lut['retain'] = False\n",
    "\n",
    "for i in lut.index:\n",
    "    # 88: Linker region before Gen included\n",
    "    # 495: Start of his-tag\n",
    "    arr = np.asarray(lut.at[i,'pos'], dtype=int)\n",
    "    if ( np.all(arr >= 88) and np.all(arr <= 494) ) or np.any(arr == -1):\n",
    "        lut.at[i,'retain'] = True\n",
    "\n",
    "lut.query(\"retain == True\")[[bc_column, aa_column,n_aa_column]].to_csv(out_file,index=False)"
   ]
  }
 ],
 "metadata": {
  "kernelspec": {
   "display_name": "Python [conda env:env]",
   "language": "python",
   "name": "conda-env-env-py"
  },
  "language_info": {
   "codemirror_mode": {
    "name": "ipython",
    "version": 3
   },
   "file_extension": ".py",
   "mimetype": "text/x-python",
   "name": "python",
   "nbconvert_exporter": "python",
   "pygments_lexer": "ipython3",
   "version": "3.7.10"
  }
 },
 "nbformat": 4,
 "nbformat_minor": 5
}
