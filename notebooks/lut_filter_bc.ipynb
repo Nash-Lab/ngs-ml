{
 "cells": [
  {
   "cell_type": "code",
   "execution_count": null,
   "id": "05e78c9d",
   "metadata": {},
   "outputs": [],
   "source": [
    "import pandas as pd\n",
    "import numpy as np\n",
    "\n",
    "names = ['barcode','barcode_quality','gen_mutation','gen_mutation_quality','gen_indel','gen_indel_quality','codon','aa_mutation','n_aa_substitutions','nnk','fraction','barcode_quality_score','gen_quality_score','read_quality_score','variant_call_support']\n",
    "delim = '\\t'\n",
    "\n",
    "bc_column = 'barcode'\n",
    "aa_column  = 'aa_mutation'\n",
    "n_aa_column = 'n_aa_substitutions'\n",
    "\n",
    "look_up_table = '../.data/m_lut.tsv'\n",
    "out_file = 'pm_lut.tsv'\n",
    "\n",
    "# 88: Linker region before Gen included\n",
    "# 495: Start of his-tag\n",
    "\n",
    "# 105: Enzyme start\n",
    "# 469: Enzyme end\n",
    "\n",
    "s = 105\n",
    "e = 469"
   ]
  },
  {
   "cell_type": "code",
   "execution_count": null,
   "id": "6d3713a1",
   "metadata": {},
   "outputs": [],
   "source": [
    "lut = pd.read_csv(look_up_table, header=None, names=names, delimiter='\\t')\n",
    "lut = lut.assign(pos=lambda x: x[aa_column].str.findall(r'[0-9]+') )\n",
    "\n",
    "lut['pos'] = lut['pos'].fillna(-1)\n",
    "\n",
    "lut['retain'] = False\n",
    "\n",
    "for i in lut.index:\n",
    "\n",
    "    arr = np.asarray(lut.at[i,'pos'], dtype=int)\n",
    "    if ( np.all(arr >= s) and np.all(arr <= e) ) or np.any(arr == -1):\n",
    "        lut.at[i,'retain'] = True\n",
    "\n",
    "lut.query(\"retain == True\")[names].to_csv(out_file,index=False, sep='\\t')"
   ]
  }
 ],
 "metadata": {
  "interpreter": {
   "hash": "ca6964a1e90fef358f4e1a2ffad4266a8ae4ebdc90a99495b6b6ee5667e31c8c"
  },
  "kernelspec": {
   "display_name": "Python 3",
   "language": "python",
   "name": "python3"
  },
  "language_info": {
   "codemirror_mode": {
    "name": "ipython",
    "version": 3
   },
   "file_extension": ".py",
   "mimetype": "text/x-python",
   "name": "python",
   "nbconvert_exporter": "python",
   "pygments_lexer": "ipython3",
   "version": "3.7.10"
  }
 },
 "nbformat": 4,
 "nbformat_minor": 5
}
