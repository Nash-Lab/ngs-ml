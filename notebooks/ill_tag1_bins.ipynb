{
 "cells": [
  {
   "cell_type": "code",
   "execution_count": null,
   "id": "bea21485",
   "metadata": {},
   "outputs": [],
   "source": [
    "import os\n",
    "import re\n",
    "import pandas as pd\n",
    "\n",
    "names = ['size','tag','barcode','barcode_quality','gen_mutation','gen_mutation_quality','gen_indel','gen_indel_quality','codon','aa_mutation','n_aa_substitutions','nnk','fraction','barcode_quality_score','gen_quality_score','read_quality_score','variant_call_support']\n",
    "delim = '\\t'\n",
    "\n",
    "input_dir = '../.data/'\n",
    "start_of_post_rib = 'Bin' # Post RIB files start with this string\n",
    "start_of_out = 't1_Bin' # Start string of tag1 output file per bin\n",
    "merged_file = 'Bins.tsv' # Name of merged bins file name\n",
    "\n",
    "keep_cols = ['barcode','gen_indel','aa_mutation','n_aa_substitutions','nnk']"
   ]
  },
  {
   "cell_type": "code",
   "execution_count": null,
   "id": "73ef9d96",
   "metadata": {},
   "outputs": [],
   "source": [
    "'''\n",
    "for f in os.listdir(input_dir):\n",
    "    if f.startswith(start_of_post_rib):\n",
    "        num = re.findall(r'[0-9]+', f)[0]\n",
    "        \n",
    "        bint = pd.read_csv(input_dir+f, delimiter=delim, header=None, names=names)\n",
    "\n",
    "        bint[keep_cols].query(\"tag == 1\").groupby(list(bint.columns), as_index=False, dropna=False).size().sort_values(by=['barcode','size']).reset_index(drop=True).drop(columns=['tag']).to_csv(f\"{start_of_out}{num}.csv\", index=False, sep=delim) \n",
    "'''\n",
    "dm = pd.DataFrame()\n",
    "\n",
    "for f in os.listdir(input_dir):\n",
    "    if f.startswith(f\"{start_of_out}\"):\n",
    "        num = re.findall(r'[0-9]+', f)[1]\n",
    "        \n",
    "        binu = pd.read_csv(input_dir+f, delimiter=delim, header=None, names=names)\n",
    "        binu['bin'] = int(num)\n",
    "        dm = pd.concat([dm, binu])\n",
    "        \n",
    "dm[['barcode','aa_mutation','n_aa_substitutions','bin','size']].sort_values(by=['bin','barcode']).to_csv(f\"{merged_file}\",index=False, sep=delim)"
   ]
  }
 ],
 "metadata": {
  "kernelspec": {
   "display_name": "Python [conda env:eeopt]",
   "language": "python",
   "name": "conda-env-eeopt-py"
  },
  "language_info": {
   "codemirror_mode": {
    "name": "ipython",
    "version": 3
   },
   "file_extension": ".py",
   "mimetype": "text/x-python",
   "name": "python",
   "nbconvert_exporter": "python",
   "pygments_lexer": "ipython3",
   "version": "3.7.10"
  }
 },
 "nbformat": 4,
 "nbformat_minor": 5
}
