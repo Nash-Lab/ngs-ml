{
 "cells": [
  {
   "cell_type": "code",
   "execution_count": null,
   "id": "sophisticated-manufacturer",
   "metadata": {},
   "outputs": [],
   "source": [
    "import os\n",
    "import re\n",
    "import pandas as pd\n",
    "\n",
    "input_dir = './'\n",
    "start_of_post_rib = 'hi_mf_Bin' # Post RIB files start with this string\n",
    "start_of_out = 'hi_m_tag1_Bin' # Start string of tag1 output file per bin\n",
    "merged_file = 'hi_m_Bins.csv' # Name of merged bins file name"
   ]
  },
  {
   "cell_type": "code",
   "execution_count": null,
   "id": "leading-address",
   "metadata": {},
   "outputs": [],
   "source": [
    "for f in os.listdir(input_dir):\n",
    "    if f.startswith(start_of_post_rib):\n",
    "        num = re.findall(r'[0-9]+', f)[0]\n",
    "        \n",
    "        bint = pd.read_csv(f)\n",
    "\n",
    "        bint['aa_mutation'] = bint['aa_mutation']\n",
    "        bint['n_aa_substitutions'] = bint['n_aa_substitutions'].fillna(0).astype(int)\n",
    "\n",
    "        bint.query(\"tag == 1\").groupby(list(bint.columns), as_index=False, dropna=False).size().sort_values(by=['barcode','size']).reset_index(drop=True).drop(columns=['tag']).to_csv(f\"{start_of_out}{num}.csv\", index=False) \n",
    "\n",
    "dm = pd.DataFrame()\n",
    "\n",
    "for f in os.listdir(input_dir):\n",
    "    if f.startswith(f\"{start_of_out}\"):\n",
    "        num = re.findall(r'[0-9]+', f)[1]\n",
    "        \n",
    "        binu = pd.read_csv(f)\n",
    "        binu['bin'] = int(num)\n",
    "        dm = pd.concat([dm, binu])\n",
    "        \n",
    "dm[['barcode','aa_mutation','n_aa_substitutions','bin','size']].sort_values(by=['bin','barcode']).to_csv(f\"{merged_file}\",index=False)"
   ]
  }
 ],
 "metadata": {
  "kernelspec": {
   "display_name": "Python [conda env:env]",
   "language": "python",
   "name": "conda-env-env-py"
  },
  "language_info": {
   "codemirror_mode": {
    "name": "ipython",
    "version": 3
   },
   "file_extension": ".py",
   "mimetype": "text/x-python",
   "name": "python",
   "nbconvert_exporter": "python",
   "pygments_lexer": "ipython3",
   "version": "3.7.10"
  }
 },
 "nbformat": 4,
 "nbformat_minor": 5
}
