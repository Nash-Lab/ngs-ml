{
 "cells": [
  {
   "cell_type": "code",
   "execution_count": null,
   "id": "323c7ba0",
   "metadata": {},
   "outputs": [],
   "source": [
    "import os\n",
    "import re\n",
    "\n",
    "import pandas as pd\n",
    "import numpy as np\n",
    "\n",
    "names = ['tag','barcode','barcode_quality','gen_mutation','gen_mutation_quality','gen_indel','gen_indel_quality','codon','aa_mutation','n_aa_substitutions','nnk','fraction','barcode_quality_score','gen_quality_score','read_quality_score','variant_call_support']\n",
    "delim = '\\t'\n",
    "\n",
    "input_folder = '../.data/' # Where Bin#.csv files are\n",
    "\n",
    "barcode_column = 'barcode'\n",
    "tag_column = 'tag'\n",
    "aa_column  = 'aa_mutation'\n",
    "n_aa_column = 'n_aa_substitutions'\n",
    "valid_barcode_tag = '1'\n",
    "\n",
    "filter_freq = 1 # barcodes found equal or more than this."
   ]
  },
  {
   "cell_type": "code",
   "execution_count": null,
   "id": "45c7f246",
   "metadata": {
    "scrolled": false
   },
   "outputs": [],
   "source": [
    "for f in os.listdir(input_folder):\n",
    "    if re.search(\"^fBin[0-9]+.tsv$\", f):\n",
    "\n",
    "        bint = pd.read_csv(os.path.join(input_folder,f), delimiter=delim, header=None, names=names)\n",
    "\n",
    "        tags_sorted = np.sort ( bint[tag_column].unique() )\n",
    "\n",
    "        #bint_freq = bint.assign(freq=lambda x: x.barcode.map(bint[barcode_column].value_counts())).query(f\"freq > {filter_freq}\").copy()\n",
    "        bint_size = bint.groupby(bint.columns.tolist(),as_index=False, dropna=False).size().copy()\n",
    "        bint_freq = bint_size.query(f\"size >= {filter_freq}\").copy()\n",
    "                \n",
    "        tag_sizes = pd.DataFrame(data={'tag' : ['total'],\n",
    "                      'n_barcodes': [bint.shape[0]],\n",
    "                      'n_unique_barcodes': [bint_size.shape[0]],\n",
    "                      'n_frequent_barcodes': [bint_freq['size'].sum()],\n",
    "                      'n_unique_frequent_barcodes': [bint_freq.shape[0]]\n",
    "                     })\n",
    "\n",
    "\n",
    "        for i in tags_sorted:\n",
    "\n",
    "            bint_tag = bint.query(f\"{tag_column} == {i}\")\n",
    "            #bint_freq = bint_tag.assign(freq=lambda x: x.barcode.map(bint[barcode_column].value_counts())).query(f\"freq > {filter_freq}\").copy()\n",
    "            bint_size = bint_tag.groupby(bint.columns.tolist(),as_index=False, dropna=False).size().copy()\n",
    "            bint_freq = bint_size.query(f\"size > {filter_freq}\").copy()\n",
    "            \n",
    "            tag_sizes = tag_sizes.append(pd.DataFrame(data={'tag' : [i],\n",
    "                          'n_barcodes': [bint_tag.shape[0]],\n",
    "                          'n_unique_barcodes': [bint_size.shape[0]],\n",
    "                          'n_frequent_barcodes': [bint_freq['size'].sum()],\n",
    "                          'n_unique_frequent_barcodes': [bint_freq.shape[0]]\n",
    "                         }))\n",
    "\n",
    "            if str(i) == valid_barcode_tag:\n",
    "                bint_freq.drop_duplicates()[[aa_column,n_aa_column,'size']].fillna('wt').groupby([aa_column,n_aa_column], as_index=False).sum().to_csv('a_'+f, index=False)\n",
    "\n",
    "                mutations_sorted = np.sort ( bint_tag[n_aa_column].unique() )\n",
    "                mutation_sizes =  pd.DataFrame()\n",
    "\n",
    "                for j in mutations_sorted:\n",
    "                    mutation_sizes = mutation_sizes.append(pd.DataFrame(data={'mutation': [j],\n",
    "                        'n_mutations' : [bint_tag.query(f\"{n_aa_column} == {j}\").shape[0]],\n",
    "                        'n_unique_mutaions' : [bint_tag.query(f\"{n_aa_column} == {j}\")[aa_column].unique().shape[0]],\n",
    "                        'n_frequent_mutations' : [bint_freq.query(f\"{n_aa_column} == {j}\")['size'].sum()],\n",
    "                        'n_unique_frequent_mutations' : [bint_freq.query(f\"{n_aa_column} == {j}\")[aa_column].unique().shape[0]]\n",
    "                    }\n",
    "                    ))\n",
    "\n",
    "\n",
    "        tag_sizes.index.name = f\n",
    "        display(tag_sizes)\n",
    "        mutation_sizes.index.name = f\n",
    "        display(mutation_sizes)"
   ]
  }
 ],
 "metadata": {
  "interpreter": {
   "hash": "ca6964a1e90fef358f4e1a2ffad4266a8ae4ebdc90a99495b6b6ee5667e31c8c"
  },
  "kernelspec": {
   "display_name": "Python [conda env:eeopt]",
   "language": "python",
   "name": "conda-env-eeopt-py"
  },
  "language_info": {
   "codemirror_mode": {
    "name": "ipython",
    "version": 3
   },
   "file_extension": ".py",
   "mimetype": "text/x-python",
   "name": "python",
   "nbconvert_exporter": "python",
   "pygments_lexer": "ipython3",
   "version": "3.7.10"
  }
 },
 "nbformat": 4,
 "nbformat_minor": 5
}
